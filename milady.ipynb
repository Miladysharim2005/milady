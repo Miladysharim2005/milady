{
 "cells": [
  {
   "cell_type": "code",
   "execution_count": 22,
   "metadata": {},
   "outputs": [
    {
     "name": "stdout",
     "output_type": "stream",
     "text": [
      "bienvenidos al curso de matematica del ciclo 1\n"
     ]
    }
   ],
   "source": [
    "curso=\"matematica\"\n",
    "ciclo=1\n",
    "print(\"bienvenidos al curso de\", curso, \"del ciclo\", ciclo)\n",
    "\n"
   ]
  },
  {
   "cell_type": "markdown",
   "metadata": {},
   "source": [
    "# MMM\n",
    "## KKKK"
   ]
  },
  {
   "cell_type": "markdown",
   "metadata": {},
   "source": [
    "- L1\n",
    "    - JKJKJ\n",
    "    - JKJ\n",
    "        - KLKL"
   ]
  },
  {
   "cell_type": "markdown",
   "metadata": {},
   "source": [
    "**MILADY**\n",
    "\n",
    "    -KKK\n",
    "        -MMM\n",
    "        SJS\n",
    "        "
   ]
  },
  {
   "cell_type": "markdown",
   "metadata": {},
   "source": [
    "*MILADY* \n",
    "\n",
    "[WWW](https://www.mark)"
   ]
  },
  {
   "cell_type": "markdown",
   "metadata": {},
   "source": [
    "![lll](https://th.bing.com/th/id/OIP.Z_hIGhZGby8q36PRdIUtMwHaD4?pid=ImgDet&rs=1)"
   ]
  },
  {
   "cell_type": "markdown",
   "metadata": {},
   "source": [
    "![mmmm](https://th.bing.com/th/id/OIP.KAcnH-3cA9tCYAdN90TtiAHaEK?pid=ImgDet&rs=1)"
   ]
  }
 ],
 "metadata": {
  "kernelspec": {
   "display_name": "Python 3.9.12 ('base')",
   "language": "python",
   "name": "python3"
  },
  "language_info": {
   "codemirror_mode": {
    "name": "ipython",
    "version": 3
   },
   "file_extension": ".py",
   "mimetype": "text/x-python",
   "name": "python",
   "nbconvert_exporter": "python",
   "pygments_lexer": "ipython3",
   "version": "3.9.12"
  },
  "orig_nbformat": 4,
  "vscode": {
   "interpreter": {
    "hash": "ad2bdc8ecc057115af97d19610ffacc2b4e99fae6737bb82f5d7fb13d2f2c186"
   }
  }
 },
 "nbformat": 4,
 "nbformat_minor": 2
}
